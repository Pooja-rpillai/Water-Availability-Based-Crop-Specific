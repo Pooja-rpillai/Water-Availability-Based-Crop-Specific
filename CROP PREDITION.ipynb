{
 "cells": [
  {
   "cell_type": "code",
   "execution_count": 1,
   "id": "ab99491c",
   "metadata": {},
   "outputs": [],
   "source": [
    "import pandas as pd\n",
    "import numpy as np\n",
    "import matplotlib.pyplot as plt\n",
    "import seaborn as sns\n",
    "from sklearn.metrics import classification_report\n",
    "from sklearn import metrics\n",
    "from sklearn.model_selection import cross_val_score\n",
    "import pickle"
   ]
  },
  {
   "cell_type": "code",
   "execution_count": 2,
   "id": "ecdd45ac",
   "metadata": {},
   "outputs": [],
   "source": [
    "df = pd.read_csv(r'C:\\Users\\Admin\\Desktop\\Crop\\cropdata.csv')"
   ]
  },
  {
   "cell_type": "code",
   "execution_count": 3,
   "id": "576cab1c",
   "metadata": {},
   "outputs": [
    {
     "data": {
      "text/html": [
       "<div>\n",
       "<style scoped>\n",
       "    .dataframe tbody tr th:only-of-type {\n",
       "        vertical-align: middle;\n",
       "    }\n",
       "\n",
       "    .dataframe tbody tr th {\n",
       "        vertical-align: top;\n",
       "    }\n",
       "\n",
       "    .dataframe thead th {\n",
       "        text-align: right;\n",
       "    }\n",
       "</style>\n",
       "<table border=\"1\" class=\"dataframe\">\n",
       "  <thead>\n",
       "    <tr style=\"text-align: right;\">\n",
       "      <th></th>\n",
       "      <th>State_Name</th>\n",
       "      <th>District_Name</th>\n",
       "      <th>Season</th>\n",
       "      <th>Temperature</th>\n",
       "      <th>PH</th>\n",
       "      <th>Rainfall</th>\n",
       "      <th>Phosphorous</th>\n",
       "      <th>Nitrogen</th>\n",
       "      <th>Potash</th>\n",
       "      <th>crop</th>\n",
       "    </tr>\n",
       "  </thead>\n",
       "  <tbody>\n",
       "    <tr>\n",
       "      <th>121076</th>\n",
       "      <td>Sikkim</td>\n",
       "      <td>WEST DISTRICT</td>\n",
       "      <td>Kharif</td>\n",
       "      <td>15.566117</td>\n",
       "      <td>7.693354</td>\n",
       "      <td>58.073681</td>\n",
       "      <td>4.564863</td>\n",
       "      <td>8.180757</td>\n",
       "      <td>0.000000</td>\n",
       "      <td>urad</td>\n",
       "    </tr>\n",
       "    <tr>\n",
       "      <th>121077</th>\n",
       "      <td>Sikkim</td>\n",
       "      <td>EAST DISTRICT</td>\n",
       "      <td>Rabi</td>\n",
       "      <td>25.391389</td>\n",
       "      <td>6.101766</td>\n",
       "      <td>62.610572</td>\n",
       "      <td>49.117328</td>\n",
       "      <td>22.066996</td>\n",
       "      <td>12.035480</td>\n",
       "      <td>wheat</td>\n",
       "    </tr>\n",
       "    <tr>\n",
       "      <th>121078</th>\n",
       "      <td>Sikkim</td>\n",
       "      <td>NORTH DISTRICT</td>\n",
       "      <td>Rabi</td>\n",
       "      <td>25.881600</td>\n",
       "      <td>6.181125</td>\n",
       "      <td>30.692217</td>\n",
       "      <td>53.876553</td>\n",
       "      <td>23.047927</td>\n",
       "      <td>12.743419</td>\n",
       "      <td>wheat</td>\n",
       "    </tr>\n",
       "    <tr>\n",
       "      <th>121079</th>\n",
       "      <td>Sikkim</td>\n",
       "      <td>SOUTH DISTRICT</td>\n",
       "      <td>Rabi</td>\n",
       "      <td>24.774702</td>\n",
       "      <td>6.929148</td>\n",
       "      <td>58.606499</td>\n",
       "      <td>47.295222</td>\n",
       "      <td>24.395453</td>\n",
       "      <td>11.042995</td>\n",
       "      <td>wheat</td>\n",
       "    </tr>\n",
       "    <tr>\n",
       "      <th>121080</th>\n",
       "      <td>Sikkim</td>\n",
       "      <td>WEST DISTRICT</td>\n",
       "      <td>Rabi</td>\n",
       "      <td>23.613468</td>\n",
       "      <td>6.643719</td>\n",
       "      <td>53.631079</td>\n",
       "      <td>54.345860</td>\n",
       "      <td>26.842375</td>\n",
       "      <td>13.102743</td>\n",
       "      <td>wheat</td>\n",
       "    </tr>\n",
       "  </tbody>\n",
       "</table>\n",
       "</div>"
      ],
      "text/plain": [
       "       State_Name   District_Name  Season  Temperature        PH   Rainfall  \\\n",
       "121076     Sikkim   WEST DISTRICT  Kharif    15.566117  7.693354  58.073681   \n",
       "121077     Sikkim   EAST DISTRICT    Rabi    25.391389  6.101766  62.610572   \n",
       "121078     Sikkim  NORTH DISTRICT    Rabi    25.881600  6.181125  30.692217   \n",
       "121079     Sikkim  SOUTH DISTRICT    Rabi    24.774702  6.929148  58.606499   \n",
       "121080     Sikkim   WEST DISTRICT    Rabi    23.613468  6.643719  53.631079   \n",
       "\n",
       "        Phosphorous   Nitrogen     Potash   crop  \n",
       "121076     4.564863   8.180757   0.000000   urad  \n",
       "121077    49.117328  22.066996  12.035480  wheat  \n",
       "121078    53.876553  23.047927  12.743419  wheat  \n",
       "121079    47.295222  24.395453  11.042995  wheat  \n",
       "121080    54.345860  26.842375  13.102743  wheat  "
      ]
     },
     "execution_count": 3,
     "metadata": {},
     "output_type": "execute_result"
    }
   ],
   "source": [
    "df.tail()"
   ]
  },
  {
   "cell_type": "code",
   "execution_count": 4,
   "id": "b8640947",
   "metadata": {},
   "outputs": [
    {
     "data": {
      "text/plain": [
       "1210810"
      ]
     },
     "execution_count": 4,
     "metadata": {},
     "output_type": "execute_result"
    }
   ],
   "source": [
    "df.size"
   ]
  },
  {
   "cell_type": "code",
   "execution_count": 5,
   "id": "4159f812",
   "metadata": {},
   "outputs": [
    {
     "data": {
      "text/plain": [
       "(121081, 10)"
      ]
     },
     "execution_count": 5,
     "metadata": {},
     "output_type": "execute_result"
    }
   ],
   "source": [
    "df.shape"
   ]
  },
  {
   "cell_type": "code",
   "execution_count": 6,
   "id": "2d44776e",
   "metadata": {},
   "outputs": [
    {
     "data": {
      "text/plain": [
       "Index(['State_Name', 'District_Name', 'Season', 'Temperature', 'PH',\n",
       "       'Rainfall', 'Phosphorous', 'Nitrogen', 'Potash', 'crop'],\n",
       "      dtype='object')"
      ]
     },
     "execution_count": 6,
     "metadata": {},
     "output_type": "execute_result"
    }
   ],
   "source": [
    "df.columns"
   ]
  },
  {
   "cell_type": "code",
   "execution_count": 7,
   "id": "f421fb5b",
   "metadata": {},
   "outputs": [
    {
     "data": {
      "text/plain": [
       "array(['arhar/tur', 'bajra', 'barley', 'coriander', 'cotton(lint)',\n",
       "       'dry chillies', 'gram', 'groundnut', 'jowar', 'linseed', 'maize-k',\n",
       "       'maize-r', 'masoor', 'moong(green gram)', 'onion',\n",
       "       'peas & beans (pulses)', 'potato', 'ragi', 'rapeseed &mustard',\n",
       "       'rice', 'safflower', 'sugarcane', 'sunflower', 'turmeric', 'urad',\n",
       "       'wheat', 'garlic', 'cowpea(lobia)', 'ginger'], dtype=object)"
      ]
     },
     "execution_count": 7,
     "metadata": {},
     "output_type": "execute_result"
    }
   ],
   "source": [
    "df['crop'].unique()"
   ]
  },
  {
   "cell_type": "code",
   "execution_count": 8,
   "id": "4702a61a",
   "metadata": {},
   "outputs": [
    {
     "data": {
      "text/plain": [
       "State_Name        object\n",
       "District_Name     object\n",
       "Season            object\n",
       "Temperature      float64\n",
       "PH               float64\n",
       "Rainfall         float64\n",
       "Phosphorous      float64\n",
       "Nitrogen         float64\n",
       "Potash           float64\n",
       "crop              object\n",
       "dtype: object"
      ]
     },
     "execution_count": 8,
     "metadata": {},
     "output_type": "execute_result"
    }
   ],
   "source": [
    "df.dtypes"
   ]
  },
  {
   "cell_type": "code",
   "execution_count": 9,
   "id": "ac045b86",
   "metadata": {},
   "outputs": [
    {
     "data": {
      "text/plain": [
       "wheat                    7520\n",
       "maize-k                  7320\n",
       "gram                     7074\n",
       "rapeseed &mustard        6978\n",
       "rice                     6878\n",
       "arhar/tur                6798\n",
       "sugarcane                6297\n",
       "urad                     5947\n",
       "moong(green gram)        5577\n",
       "groundnut                5359\n",
       "bajra                    4672\n",
       "linseed                  4335\n",
       "potato                   4165\n",
       "dry chillies             4104\n",
       "masoor                   4096\n",
       "barley                   4017\n",
       "onion                    3985\n",
       "cotton(lint)             3974\n",
       "peas & beans (pulses)    3965\n",
       "turmeric                 3676\n",
       "coriander                2830\n",
       "maize-r                  2735\n",
       "sunflower                2577\n",
       "ragi                     2448\n",
       "jowar                    1592\n",
       "safflower                1301\n",
       "garlic                    544\n",
       "cowpea(lobia)             241\n",
       "ginger                     76\n",
       "Name: crop, dtype: int64"
      ]
     },
     "execution_count": 9,
     "metadata": {},
     "output_type": "execute_result"
    }
   ],
   "source": [
    "df['crop'].value_counts()"
   ]
  },
  {
   "cell_type": "code",
   "execution_count": 10,
   "id": "9bdece56",
   "metadata": {},
   "outputs": [
    {
     "data": {
      "text/plain": [
       "<AxesSubplot:>"
      ]
     },
     "execution_count": 10,
     "metadata": {},
     "output_type": "execute_result"
    },
    {
     "data": {
      "image/png": "[encoded data removed]",
      "text/plain": [
       "<Figure size 432x288 with 2 Axes>"
      ]
     },
     "metadata": {
      "needs_background": "light"
     },
     "output_type": "display_data"
    }
   ],
   "source": [
    "sns.heatmap(df.corr(),annot=True)"
   ]
  },
  {
   "cell_type": "code",
   "execution_count": 11,
   "id": "0e9da1d2",
   "metadata": {},
   "outputs": [],
   "source": [
    "#Seperating features and target label\n",
    "features = df[['Temperature','PH','Rainfall','Phosphorous','Nitrogen','Potash']]\n",
    "target = df['crop']"
   ]
  },
  {
   "cell_type": "code",
   "execution_count": 12,
   "id": "11fb8f0d",
   "metadata": {},
   "outputs": [],
   "source": [
    "##accuracy and model name\n",
    "acc = []\n",
    "model = []"
   ]
  },
  {
   "cell_type": "code",
   "execution_count": 13,
   "id": "6a2eb65c",
   "metadata": {},
   "outputs": [],
   "source": [
    "# Splitting into train and test data\n",
    "from sklearn.model_selection import train_test_split\n",
    "Xtrain, Xtest, Ytrain, Ytest = train_test_split(features,target,test_size = 0.2,random_state =2)"
   ]
  },
  {
   "cell_type": "code",
   "execution_count": 14,
   "id": "dd12e8e8",
   "metadata": {},
   "outputs": [
    {
     "data": {
      "image/png": "[encoded data removed]",
      "text/plain": [
       "<Figure size 432x288 with 1 Axes>"
      ]
     },
     "metadata": {
      "needs_background": "light"
     },
     "output_type": "display_data"
    }
   ],
   "source": [
    "# Random Forest\n",
    "from sklearn.ensemble import RandomForestClassifier\n",
    "acc_score = []\n",
    "n_estimators = [1, 2, 4, 8, 16, 32, 64, 100, 200]\n",
    "for i in n_estimators:\n",
    "    RF = RandomForestClassifier(n_estimators=i, random_state=2)\n",
    "    RF.fit(Xtrain,Ytrain)\n",
    "    predicted_values = RF.predict(Xtest)\n",
    "\n",
    "    x = metrics.accuracy_score(Ytest, predicted_values)\n",
    "    acc_score.append(x) \n",
    "    \n",
    "plt.plot(n_estimators, acc_score, 'b', label='Accuracy')\n",
    "plt.ylabel('Accuracy score')\n",
    "plt.xlabel('n_estimators')\n",
    "plt.show()    "
   ]
  },
  {
   "cell_type": "code",
   "execution_count": 15,
   "id": "e5d3e7f2",
   "metadata": {},
   "outputs": [
    {
     "data": {
      "text/plain": [
       "[0.9954164429945905,\n",
       " 0.9954577363009456,\n",
       " 0.9959532559772061,\n",
       " 0.9962423091216914,\n",
       " 0.9961597225089813,\n",
       " 0.9961597225089813,\n",
       " 0.9964487756534666,\n",
       " 0.9963661890407565,\n",
       " 0.9964487756534666]"
      ]
     },
     "execution_count": 15,
     "metadata": {},
     "output_type": "execute_result"
    }
   ],
   "source": [
    "acc_score"
   ]
  },
  {
   "cell_type": "code",
   "execution_count": 16,
   "id": "cfd1a301",
   "metadata": {},
   "outputs": [
    {
     "name": "stdout",
     "output_type": "stream",
     "text": [
      "RF's Accuracy is:  0.9961597225089813\n",
      "                       precision    recall  f1-score   support\n",
      "\n",
      "            arhar/tur       1.00      1.00      1.00      1356\n",
      "                bajra       1.00      1.00      1.00       880\n",
      "               barley       1.00      1.00      1.00       779\n",
      "            coriander       1.00      1.00      1.00       545\n",
      "         cotton(lint)       1.00      1.00      1.00       775\n",
      "        cowpea(lobia)       1.00      1.00      1.00        47\n",
      "         dry chillies       0.92      0.97      0.94       814\n",
      "               garlic       1.00      1.00      1.00       103\n",
      "               ginger       1.00      1.00      1.00        13\n",
      "                 gram       1.00      1.00      1.00      1458\n",
      "            groundnut       1.00      1.00      1.00      1092\n",
      "                jowar       1.00      1.00      1.00       325\n",
      "              linseed       1.00      1.00      1.00       940\n",
      "              maize-k       1.00      1.00      1.00      1505\n",
      "              maize-r       1.00      1.00      1.00       560\n",
      "               masoor       1.00      1.00      1.00       836\n",
      "    moong(green gram)       1.00      1.00      1.00      1104\n",
      "                onion       1.00      1.00      1.00       812\n",
      "peas & beans (pulses)       1.00      1.00      1.00       787\n",
      "               potato       1.00      1.00      1.00       772\n",
      "                 ragi       0.95      0.86      0.90       505\n",
      "    rapeseed &mustard       1.00      1.00      1.00      1376\n",
      "                 rice       1.00      1.00      1.00      1363\n",
      "            safflower       1.00      1.00      1.00       258\n",
      "            sugarcane       1.00      1.00      1.00      1215\n",
      "            sunflower       1.00      1.00      1.00       503\n",
      "             turmeric       1.00      1.00      1.00       770\n",
      "                 urad       1.00      1.00      1.00      1165\n",
      "                wheat       1.00      1.00      1.00      1559\n",
      "\n",
      "             accuracy                           1.00     24217\n",
      "            macro avg       1.00      0.99      0.99     24217\n",
      "         weighted avg       1.00      1.00      1.00     24217\n",
      "\n"
     ]
    }
   ],
   "source": [
    "RF = RandomForestClassifier(n_estimators=16, random_state=2)\n",
    "RF.fit(Xtrain,Ytrain)\n",
    "\n",
    "predicted_values = RF.predict(Xtest)\n",
    "\n",
    "x = metrics.accuracy_score(Ytest, predicted_values)\n",
    "acc.append(x)                         #accuracy\n",
    "model.append('RF')                   #model name\n",
    "print(\"RF's Accuracy is: \", x)\n",
    "\n",
    "print(classification_report(Ytest,predicted_values))"
   ]
  },
  {
   "cell_type": "code",
   "execution_count": 17,
   "id": "a48e361d",
   "metadata": {},
   "outputs": [
    {
     "data": {
      "text/plain": [
       "<AxesSubplot:xlabel='Accuracy', ylabel='Algorithm'>"
      ]
     },
     "execution_count": 17,
     "metadata": {},
     "output_type": "execute_result"
    },
    {
     "data": {
      "image/png": "[encoded data removed]",
      "text/plain": [
       "<Figure size 1000x100 with 1 Axes>"
      ]
     },
     "metadata": {
      "needs_background": "light"
     },
     "output_type": "display_data"
    }
   ],
   "source": [
    "plt.figure(figsize=[10,1],dpi = 100)\n",
    "\n",
    "plt.xlabel('Accuracy')\n",
    "plt.ylabel('Algorithm')\n",
    "sns.barplot(x = acc,y = model,palette='dark')"
   ]
  },
  {
   "cell_type": "code",
   "execution_count": 18,
   "id": "d4f3a6d0",
   "metadata": {},
   "outputs": [
    {
     "data": {
      "text/plain": [
       "array([0.99624231, 0.99591179, 0.99624215, 0.9958705 , 0.99566402])"
      ]
     },
     "execution_count": 18,
     "metadata": {},
     "output_type": "execute_result"
    }
   ],
   "source": [
    "score = cross_val_score(RF,features,target,cv=5)\n",
    "score"
   ]
  },
  {
   "cell_type": "code",
   "execution_count": 19,
   "id": "b4da28c9",
   "metadata": {},
   "outputs": [
    {
     "name": "stdout",
     "output_type": "stream",
     "text": [
      "RF --> 0.9961597225089813\n"
     ]
    }
   ],
   "source": [
    "accuracy_models = dict(zip(model, acc))\n",
    "for k, v in accuracy_models.items():\n",
    "    print (k, '-->', v)"
   ]
  },
  {
   "cell_type": "code",
   "execution_count": 20,
   "id": "327a53a3",
   "metadata": {},
   "outputs": [
    {
     "name": "stdout",
     "output_type": "stream",
     "text": [
      "['wheat']\n"
     ]
    }
   ],
   "source": [
    "#[ 'Temperature', 'PH',   'Rainfall', 'Phosphorous', 'Nitrogen', 'Potash', 'crop']\n",
    "data = np.array([[25,6,30,53,23,12,]])\n",
    "prediction = RF.predict(data)\n",
    "print(prediction)"
   ]
  },
  {
   "cell_type": "code",
   "execution_count": null,
   "id": "217d6d13",
   "metadata": {},
   "outputs": [],
   "source": []
  }
 ],
 "metadata": {
  "kernelspec": {
   "display_name": "Python 3 (ipykernel)",
   "language": "python",
   "name": "python3"
  },
  "language_info": {
   "codemirror_mode": {
    "name": "ipython",
    "version": 3
   },
   "file_extension": ".py",
   "mimetype": "text/x-python",
   "name": "python",
   "nbconvert_exporter": "python",
   "pygments_lexer": "ipython3",
   "version": "3.9.7"
  }
 },
 "nbformat": 4,
 "nbformat_minor": 5
}
